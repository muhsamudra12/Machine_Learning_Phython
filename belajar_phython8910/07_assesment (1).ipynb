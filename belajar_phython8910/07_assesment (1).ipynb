{
 "cells": [
  {
   "cell_type": "code",
   "execution_count": 25,
   "id": "fa5dc9a7-f50b-47b6-9bc6-3230022e11d2",
   "metadata": {},
   "outputs": [
    {
     "data": {
      "text/plain": [
       "True"
      ]
     },
     "execution_count": 25,
     "metadata": {},
     "output_type": "execute_result"
    }
   ],
   "source": [
    "import torch\n",
    "import torch.nn as nn\n",
    "from torch.optim import Adam\n",
    "from torch.utils.data import Dataset, DataLoader\n",
    "import torchvision.transforms.v2 as transforms\n",
    "import torchvision.io as tv_io\n",
    "\n",
    "import glob\n",
    "from PIL import Image\n",
    "\n",
    "import utils\n",
    "\n",
    "device = torch.device(\"cuda\" if torch.cuda.is_available() else \"cpu\")\n",
    "torch.cuda.is_available()"
   ]
  },
  {
   "cell_type": "code",
   "execution_count": 26,
   "id": "d6e5a67e-bdad-4c4f-a160-f8758ddb901c",
   "metadata": {},
   "outputs": [],
   "source": [
    "from torchvision.models import vgg16\n",
    "from torchvision.models import VGG16_Weights\n",
    "\n",
    "weights = VGG16_Weights.DEFAULT\n",
    "vgg_model = vgg16(weights=weights)"
   ]
  },
  {
   "cell_type": "code",
   "execution_count": 46,
   "id": "ebf00d47-076f-4021-b740-de293c095032",
   "metadata": {},
   "outputs": [
    {
     "data": {
      "text/plain": [
       "True"
      ]
     },
     "execution_count": 46,
     "metadata": {},
     "output_type": "execute_result"
    }
   ],
   "source": [
    "# Freeze base model\n",
    "vgg_model.requires_grad_(True)\n",
    "next(iter(vgg_model.parameters())).requires_grad"
   ]
  },
  {
   "cell_type": "code",
   "execution_count": 47,
   "id": "a7d4231c-2a79-46dc-9976-60b4b5a44c39",
   "metadata": {},
   "outputs": [
    {
     "data": {
      "text/plain": [
       "Sequential(\n",
       "  (0): Sequential(\n",
       "    (0): Conv2d(3, 64, kernel_size=(3, 3), stride=(1, 1), padding=(1, 1))\n",
       "    (1): ReLU(inplace=True)\n",
       "    (2): Conv2d(64, 64, kernel_size=(3, 3), stride=(1, 1), padding=(1, 1))\n",
       "    (3): ReLU(inplace=True)\n",
       "    (4): MaxPool2d(kernel_size=2, stride=2, padding=0, dilation=1, ceil_mode=False)\n",
       "    (5): Conv2d(64, 128, kernel_size=(3, 3), stride=(1, 1), padding=(1, 1))\n",
       "    (6): ReLU(inplace=True)\n",
       "    (7): Conv2d(128, 128, kernel_size=(3, 3), stride=(1, 1), padding=(1, 1))\n",
       "    (8): ReLU(inplace=True)\n",
       "    (9): MaxPool2d(kernel_size=2, stride=2, padding=0, dilation=1, ceil_mode=False)\n",
       "    (10): Conv2d(128, 256, kernel_size=(3, 3), stride=(1, 1), padding=(1, 1))\n",
       "    (11): ReLU(inplace=True)\n",
       "    (12): Conv2d(256, 256, kernel_size=(3, 3), stride=(1, 1), padding=(1, 1))\n",
       "    (13): ReLU(inplace=True)\n",
       "    (14): Conv2d(256, 256, kernel_size=(3, 3), stride=(1, 1), padding=(1, 1))\n",
       "    (15): ReLU(inplace=True)\n",
       "    (16): MaxPool2d(kernel_size=2, stride=2, padding=0, dilation=1, ceil_mode=False)\n",
       "    (17): Conv2d(256, 512, kernel_size=(3, 3), stride=(1, 1), padding=(1, 1))\n",
       "    (18): ReLU(inplace=True)\n",
       "    (19): Conv2d(512, 512, kernel_size=(3, 3), stride=(1, 1), padding=(1, 1))\n",
       "    (20): ReLU(inplace=True)\n",
       "    (21): Conv2d(512, 512, kernel_size=(3, 3), stride=(1, 1), padding=(1, 1))\n",
       "    (22): ReLU(inplace=True)\n",
       "    (23): MaxPool2d(kernel_size=2, stride=2, padding=0, dilation=1, ceil_mode=False)\n",
       "    (24): Conv2d(512, 512, kernel_size=(3, 3), stride=(1, 1), padding=(1, 1))\n",
       "    (25): ReLU(inplace=True)\n",
       "    (26): Conv2d(512, 512, kernel_size=(3, 3), stride=(1, 1), padding=(1, 1))\n",
       "    (27): ReLU(inplace=True)\n",
       "    (28): Conv2d(512, 512, kernel_size=(3, 3), stride=(1, 1), padding=(1, 1))\n",
       "    (29): ReLU(inplace=True)\n",
       "    (30): MaxPool2d(kernel_size=2, stride=2, padding=0, dilation=1, ceil_mode=False)\n",
       "  )\n",
       "  (1): AdaptiveAvgPool2d(output_size=(7, 7))\n",
       "  (2): Flatten(start_dim=1, end_dim=-1)\n",
       "  (3): Sequential(\n",
       "    (0): Linear(in_features=25088, out_features=4096, bias=True)\n",
       "    (1): ReLU(inplace=True)\n",
       "    (2): Dropout(p=0.5, inplace=False)\n",
       "  )\n",
       "  (4): Linear(in_features=4096, out_features=500, bias=True)\n",
       "  (5): ReLU()\n",
       "  (6): Linear(in_features=500, out_features=6, bias=True)\n",
       ")"
      ]
     },
     "execution_count": 47,
     "metadata": {},
     "output_type": "execute_result"
    }
   ],
   "source": [
    "N_CLASSES = 6\n",
    "\n",
    "my_model = nn.Sequential(\n",
    "    vgg_model.features,\n",
    "    vgg_model.avgpool,\n",
    "    nn.Flatten(),\n",
    "    vgg_model.classifier[0:3],\n",
    "    nn.Linear(4096, 500),\n",
    "    nn.ReLU(),\n",
    "    nn.Linear(500, N_CLASSES)\n",
    ")\n",
    "my_model"
   ]
  },
  {
   "cell_type": "code",
   "execution_count": 48,
   "id": "00aecdb8-685d-4665-8528-7cef209cf3b9",
   "metadata": {},
   "outputs": [],
   "source": [
    "loss_function = nn.CrossEntropyLoss()\n",
    "optimizer = Adam(my_model.parameters(), lr=.0001)\n",
    "my_model = torch.compile(my_model.to(device))"
   ]
  },
  {
   "cell_type": "code",
   "execution_count": 49,
   "id": "83b71d65-8902-4bfb-a7ec-2bf1127cba09",
   "metadata": {},
   "outputs": [],
   "source": [
    "pre_trans = weights.transforms()"
   ]
  },
  {
   "cell_type": "code",
   "execution_count": 56,
   "id": "893c2244-b54f-43fd-85e5-360573b7bdc1",
   "metadata": {},
   "outputs": [],
   "source": [
    "IMG_WIDTH, IMG_HEIGHT = (224, 224)\n",
    "\n",
    "random_trans = transforms.Compose([\n",
    "    transforms.RandomRotation(25),\n",
    "    transforms.RandomResizedCrop((IMG_WIDTH, IMG_HEIGHT), scale=(0.8, 1), ratio=(0.75, 1.33)),  # Variasi rasio\n",
    "    transforms.RandomHorizontalFlip(),\n",
    "    transforms.ColorJitter(brightness=0.3, contrast=0.2, saturation=0.2, hue=0.2),\n",
    "    transforms.RandomVerticalFlip(),  # Menambahkan flip vertikal\n",
    "    transforms.Normalize(mean=[0.485, 0.456, 0.406], std=[0.229, 0.224, 0.225])  # Normalisasi\n",
    "])"
   ]
  },
  {
   "cell_type": "code",
   "execution_count": 57,
   "id": "e92b88a1-3ef2-440d-bca3-2dc65e87f269",
   "metadata": {},
   "outputs": [],
   "source": [
    "DATA_LABELS = [\"freshapples\", \"freshbanana\", \"freshoranges\", \"rottenapples\", \"rottenbanana\", \"rottenoranges\"] \n",
    "    \n",
    "class MyDataset(Dataset):\n",
    "    def __init__(self, data_dir):\n",
    "        self.imgs = []\n",
    "        self.labels = []\n",
    "        \n",
    "        for l_idx, label in enumerate(DATA_LABELS):\n",
    "            data_paths = glob.glob(data_dir + label + '/*.png', recursive=True)\n",
    "            for path in data_paths:\n",
    "                img = tv_io.read_image(path, tv_io.ImageReadMode.RGB)\n",
    "                self.imgs.append(pre_trans(img).to(device))\n",
    "                self.labels.append(torch.tensor(l_idx).to(device))\n",
    "\n",
    "\n",
    "    def __getitem__(self, idx):\n",
    "        img = self.imgs[idx]\n",
    "        label = self.labels[idx]\n",
    "        return img, label\n",
    "\n",
    "    def __len__(self):\n",
    "        return len(self.imgs)"
   ]
  },
  {
   "cell_type": "code",
   "execution_count": 58,
   "id": "7f920901-10af-42c5-bf02-a11e66db3e14",
   "metadata": {},
   "outputs": [],
   "source": [
    "n = 64\n",
    "\n",
    "train_path = \"data/fruits/train/\"\n",
    "train_data = MyDataset(train_path)\n",
    "train_loader = DataLoader(train_data, batch_size=n, shuffle=True)\n",
    "train_N = len(train_loader.dataset)\n",
    "\n",
    "valid_path = \"data/fruits/valid/\"\n",
    "valid_data = MyDataset(valid_path)\n",
    "valid_loader = DataLoader(valid_data, batch_size=n, shuffle=False)\n",
    "valid_N = len(valid_loader.dataset)"
   ]
  },
  {
   "cell_type": "code",
   "execution_count": 59,
   "id": "2eb451f0-69fa-4c1e-a186-26243c4e2014",
   "metadata": {},
   "outputs": [
    {
     "name": "stdout",
     "output_type": "stream",
     "text": [
      "Epoch: 0\n",
      "Train - Loss: 1.2485 Accuracy: 0.9805\n",
      "Valid - Loss: 3.7365 Accuracy: 0.8237\n",
      "Epoch: 1\n",
      "Train - Loss: 0.5247 Accuracy: 0.9898\n",
      "Valid - Loss: 2.9502 Accuracy: 0.8511\n",
      "Epoch: 2\n",
      "Train - Loss: 0.6375 Accuracy: 0.9856\n",
      "Valid - Loss: 1.8463 Accuracy: 0.9179\n",
      "Epoch: 3\n",
      "Train - Loss: 0.7592 Accuracy: 0.9848\n",
      "Valid - Loss: 1.6497 Accuracy: 0.9210\n",
      "Epoch: 4\n",
      "Train - Loss: 1.7339 Accuracy: 0.9788\n",
      "Valid - Loss: 3.3098 Accuracy: 0.8754\n",
      "Epoch: 5\n",
      "Train - Loss: 0.9207 Accuracy: 0.9856\n",
      "Valid - Loss: 4.2227 Accuracy: 0.8389\n",
      "Epoch: 6\n",
      "Train - Loss: 0.3532 Accuracy: 0.9932\n",
      "Valid - Loss: 3.0852 Accuracy: 0.8845\n",
      "Epoch: 7\n",
      "Train - Loss: 0.5385 Accuracy: 0.9915\n",
      "Valid - Loss: 2.0675 Accuracy: 0.9271\n",
      "Epoch: 8\n",
      "Train - Loss: 0.3358 Accuracy: 0.9949\n",
      "Valid - Loss: 2.8008 Accuracy: 0.9210\n",
      "Epoch: 9\n",
      "Train - Loss: 0.1412 Accuracy: 0.9975\n",
      "Valid - Loss: 2.1368 Accuracy: 0.9240\n",
      "Epoch: 10\n",
      "Train - Loss: 0.4832 Accuracy: 0.9941\n",
      "Valid - Loss: 3.6353 Accuracy: 0.8967\n",
      "Epoch: 11\n",
      "Train - Loss: 0.4407 Accuracy: 0.9907\n",
      "Valid - Loss: 2.0403 Accuracy: 0.9271\n",
      "Epoch: 12\n",
      "Train - Loss: 0.2543 Accuracy: 0.9966\n",
      "Valid - Loss: 4.0593 Accuracy: 0.8693\n",
      "Epoch: 13\n",
      "Train - Loss: 0.2221 Accuracy: 0.9966\n",
      "Valid - Loss: 2.0807 Accuracy: 0.9179\n",
      "Epoch: 14\n",
      "Train - Loss: 0.3235 Accuracy: 0.9941\n",
      "Valid - Loss: 6.6188 Accuracy: 0.8571\n",
      "Epoch: 15\n",
      "Train - Loss: 0.5606 Accuracy: 0.9873\n",
      "Valid - Loss: 4.2612 Accuracy: 0.8845\n",
      "Epoch: 16\n",
      "Train - Loss: 0.2440 Accuracy: 0.9975\n",
      "Valid - Loss: 3.5860 Accuracy: 0.9027\n",
      "Epoch: 17\n",
      "Train - Loss: 0.4649 Accuracy: 0.9890\n",
      "Valid - Loss: 3.8854 Accuracy: 0.8967\n",
      "Epoch: 18\n",
      "Train - Loss: 0.6053 Accuracy: 0.9890\n",
      "Valid - Loss: 2.7608 Accuracy: 0.9119\n",
      "Epoch: 19\n",
      "Train - Loss: 0.1654 Accuracy: 0.9975\n",
      "Valid - Loss: 1.5967 Accuracy: 0.9362\n"
     ]
    }
   ],
   "source": [
    "epochs = 20\n",
    "\n",
    "for epoch in range(epochs):\n",
    "    print('Epoch: {}'.format(epoch))\n",
    "    utils.train(my_model, train_loader, train_N, random_trans, optimizer, loss_function)\n",
    "    utils.validate(my_model, valid_loader, valid_N, loss_function)"
   ]
  },
  {
   "cell_type": "code",
   "execution_count": 60,
   "id": "1da40997-06eb-4907-86fd-3ef753e9b23e",
   "metadata": {},
   "outputs": [
    {
     "name": "stdout",
     "output_type": "stream",
     "text": [
      "Evaluating model to obtain average accuracy...\n",
      "\n",
      "Accuracy: 0.9362\n",
      "\n",
      "Accuracy required to pass the assessment is 0.92 or greater.\n",
      "Your average accuracy is 0.9362.\n",
      "\n",
      "Congratulations! You passed the assessment!\n",
      "See instructions below to generate a certificate.\n"
     ]
    }
   ],
   "source": [
    "from run_assessment import run_assessment\n",
    "run_assessment(my_model)"
   ]
  },
  {
   "cell_type": "code",
   "execution_count": null,
   "id": "cdc72e82-b2a6-4661-a6f9-20f87da3295e",
   "metadata": {},
   "outputs": [],
   "source": []
  }
 ],
 "metadata": {
  "kernelspec": {
   "display_name": "Python 3 (ipykernel)",
   "language": "python",
   "name": "python3"
  },
  "language_info": {
   "codemirror_mode": {
    "name": "ipython",
    "version": 3
   },
   "file_extension": ".py",
   "mimetype": "text/x-python",
   "name": "python",
   "nbconvert_exporter": "python",
   "pygments_lexer": "ipython3",
   "version": "3.10.12"
  }
 },
 "nbformat": 4,
 "nbformat_minor": 5
}
